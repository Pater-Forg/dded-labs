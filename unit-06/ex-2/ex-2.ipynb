{
 "cells": [
  {
   "cell_type": "code",
   "execution_count": 120,
   "metadata": {},
   "outputs": [],
   "source": [
    "from scipy import integrate, constants, optimize\n",
    "import numpy as np\n",
    "import matplotlib.pyplot as plt\n",
    "import pandas as pd"
   ]
  },
  {
   "cell_type": "code",
   "execution_count": 121,
   "metadata": {},
   "outputs": [],
   "source": [
    "Temp = 300"
   ]
  },
  {
   "cell_type": "code",
   "execution_count": 122,
   "metadata": {},
   "outputs": [],
   "source": [
    "class Thermodynamic:\n",
    "    def __init__(self, name: str):\n",
    "        cols = ['Compound', '$\\\\Delta H_f$', '$S_f$', 'A', 'B', 'C', 'D', '$T_1$', '$T_2$']\n",
    "        data = pd.read_csv('../../unit-04/ex-3/test-tab-04.csv', usecols=cols)\n",
    "        compound_data = data.loc[data['Compound'] == name]\n",
    "        self.Name = name\n",
    "        self.Delta_H = float(compound_data['$\\\\Delta H_f$'].values[0])\n",
    "        self.Delta_S = float(compound_data['$S_f$'].values[0]) * 1e-3\n",
    "        self.A = float(compound_data['A'].values[0])\n",
    "        self.B = float(compound_data['B'].values[0])\n",
    "        self.C = float(compound_data['C'].values[0])\n",
    "        self.D = float(compound_data['D'].values[0])\n",
    "        self.T_min = float(compound_data['$T_1$'].values[0])\n",
    "        self.T_max = float(compound_data['$T_2$'].values[0])\n",
    "\n",
    "    def heat_capacity(self, T: float) -> float:\n",
    "        return 1e-3 * (self.A + self.B * 1e-3 * T + self.C * 1e5 * np.pow(T, -2) + self.D * 1e-6 * np.pow(T, 2))\n",
    "\n",
    "    def enthalpy(self, T: float):\n",
    "        return self.Delta_H + integrate.quad(self.heat_capacity, 298, T)[0]\n",
    "\n",
    "    def entropy(self, T: float):\n",
    "        return self.Delta_S + integrate.quad(lambda x: self.heat_capacity(x) / x, 298, T)[0]\n",
    "\n",
    "    def gibbs_energy(self, T: float):\n",
    "        return self.enthalpy(T) - T * self.entropy(T)"
   ]
  },
  {
   "cell_type": "code",
   "execution_count": 123,
   "metadata": {},
   "outputs": [],
   "source": [
    "species = [\"Methane\", \"Hydrogen\", \"Oxygen\", \"Water\", \"Carbon Monoxide\", \"Carbon Dioxide\"]\n",
    "compounds = [Thermodynamic(name) for name in species]"
   ]
  },
  {
   "cell_type": "code",
   "execution_count": 124,
   "metadata": {},
   "outputs": [
    {
     "data": {
      "text/plain": [
       "array([-130.51063913,  -39.20389448,  -61.54489676, -298.47582504,\n",
       "       -169.83949514, -457.63594876])"
      ]
     },
     "execution_count": 124,
     "metadata": {},
     "output_type": "execute_result"
    }
   ],
   "source": [
    "Gjo = np.array([compound.gibbs_energy(Temp) for compound in compounds])\n",
    "Gjo"
   ]
  },
  {
   "cell_type": "code",
   "execution_count": 125,
   "metadata": {},
   "outputs": [],
   "source": [
    "lgP = 1\n",
    "def func(nj):\n",
    "    nj = np.array(nj)\n",
    "    Enj = np.sum(nj)\n",
    "    G = np.sum(nj * (Gjo / constants.R / Temp + lgP + np.log(nj / Enj)))\n",
    "    return G"
   ]
  },
  {
   "cell_type": "code",
   "execution_count": 126,
   "metadata": {},
   "outputs": [],
   "source": [
    "Aeq = np.array(\n",
    "    [\n",
    "        [4,   2,   0,   2,   0,   0], # hydrogen balance\n",
    "        [0,   0,   2,   1,   1,   2], # oxygen balance\n",
    "        [1,   0,   0,   0,   1,   1], # carbon balance\n",
    "#        CH4  H2   O2   H2O  CO   CO2\n",
    "    ])"
   ]
  },
  {
   "cell_type": "code",
   "execution_count": 127,
   "metadata": {},
   "outputs": [],
   "source": [
    "rng = np.random.default_rng()\n",
    "moles = 5 * rng.random(6)\n",
    "beq = np.array([np.sum(moles * Aeq[i]) for i in range(len(Aeq))])"
   ]
  },
  {
   "cell_type": "code",
   "execution_count": 128,
   "metadata": {},
   "outputs": [],
   "source": [
    "def ec1(n):\n",
    "    'Equality constraint'\n",
    "    return np.dot(Aeq, n) - beq\n",
    "\n",
    "def ic1(n):\n",
    "    'Inequality constraint: all n>=0'\n",
    "    return n"
   ]
  },
  {
   "cell_type": "code",
   "execution_count": 129,
   "metadata": {},
   "outputs": [],
   "source": [
    "n0 = [1, 1, 1, 1, 1, 1] # init guess"
   ]
  },
  {
   "cell_type": "code",
   "execution_count": 130,
   "metadata": {},
   "outputs": [
    {
     "name": "stdout",
     "output_type": "stream",
     "text": [
      "Optimization terminated successfully    (Exit mode 0)\n",
      "            Current function value: -12.03663259409686\n",
      "            Iterations: 8\n",
      "            Function evaluations: 56\n",
      "            Gradient evaluations: 8\n"
     ]
    },
    {
     "data": {
      "text/plain": [
       "(array([1.26088029, 2.99302749, 2.66190581, 2.3223202 , 2.91029693,\n",
       "        2.28390463]),\n",
       " np.float64(-12.03663259409686),\n",
       " 8,\n",
       " 0,\n",
       " 'Optimization terminated successfully')"
      ]
     },
     "execution_count": 130,
     "metadata": {},
     "output_type": "execute_result"
    }
   ],
   "source": [
    "X = optimize.fmin_slsqp(func, n0, f_eqcons=ec1, f_ieqcons=ic1, iter=100, acc=1e-6, full_output=1)\n",
    "X"
   ]
  }
 ],
 "metadata": {
  "kernelspec": {
   "display_name": ".venv",
   "language": "python",
   "name": "python3"
  },
  "language_info": {
   "codemirror_mode": {
    "name": "ipython",
    "version": 3
   },
   "file_extension": ".py",
   "mimetype": "text/x-python",
   "name": "python",
   "nbconvert_exporter": "python",
   "pygments_lexer": "ipython3",
   "version": "3.12.7"
  }
 },
 "nbformat": 4,
 "nbformat_minor": 2
}
